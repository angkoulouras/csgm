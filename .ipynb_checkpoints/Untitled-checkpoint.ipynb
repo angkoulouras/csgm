{
 "cells": [
  {
   "cell_type": "code",
   "execution_count": 1,
   "metadata": {},
   "outputs": [
    {
     "name": "stdout",
     "output_type": "stream",
     "text": [
      "Archive:  nested_dropout_flows-main.zip\r\n",
      "f5f68fa9e4d0133d98c47fc6c8ddb541283460aa\r\n",
      "   creating: nested_dropout_flows-main/\r\n",
      " extracting: nested_dropout_flows-main/.gitignore  \r\n",
      "  inflating: nested_dropout_flows-main/README.md  \r\n",
      "   creating: nested_dropout_flows-main/images/\r\n",
      " extracting: nested_dropout_flows-main/images/__init__.py  \r\n",
      "   creating: nested_dropout_flows-main/images/config/\r\n",
      "  inflating: nested_dropout_flows-main/images/config/data_config.json  \r\n",
      "  inflating: nested_dropout_flows-main/images/config/flow_config.json  \r\n",
      "  inflating: nested_dropout_flows-main/images/data.py  \r\n",
      "  inflating: nested_dropout_flows-main/images/eval.py  \r\n",
      "  inflating: nested_dropout_flows-main/images/sample.py  \r\n",
      "  inflating: nested_dropout_flows-main/images/train.py  \r\n",
      "  inflating: nested_dropout_flows-main/images/transform.py  \r\n",
      "  inflating: nested_dropout_flows-main/requirements.txt  \r\n",
      "   creating: nested_dropout_flows-main/synthetic/\r\n",
      " extracting: nested_dropout_flows-main/synthetic/__init__.py  \r\n",
      "  inflating: nested_dropout_flows-main/synthetic/data.py  \r\n",
      "  inflating: nested_dropout_flows-main/synthetic/eval.py  \r\n",
      "  inflating: nested_dropout_flows-main/synthetic/flow.py  \r\n",
      "  inflating: nested_dropout_flows-main/synthetic/pca.py  \r\n",
      "  inflating: nested_dropout_flows-main/synthetic/plot_manifold.py  \r\n",
      "  inflating: nested_dropout_flows-main/synthetic/train.py  \r\n",
      "  inflating: nested_dropout_flows-main/utils.py  \r\n"
     ]
    }
   ],
   "source": [
    "!unzip nested_dropout_flows-main.zip"
   ]
  },
  {
   "cell_type": "code",
   "execution_count": null,
   "metadata": {},
   "outputs": [],
   "source": []
  }
 ],
 "metadata": {
  "kernelspec": {
   "display_name": "Python 3",
   "language": "python",
   "name": "python3"
  },
  "language_info": {
   "codemirror_mode": {
    "name": "ipython",
    "version": 3
   },
   "file_extension": ".py",
   "mimetype": "text/x-python",
   "name": "python",
   "nbconvert_exporter": "python",
   "pygments_lexer": "ipython3",
   "version": "3.8.5"
  }
 },
 "nbformat": 4,
 "nbformat_minor": 4
}
